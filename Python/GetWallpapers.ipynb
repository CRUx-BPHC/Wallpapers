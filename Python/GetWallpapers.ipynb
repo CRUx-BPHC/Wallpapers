{
 "cells": [
  {
   "cell_type": "code",
   "execution_count": 26,
   "metadata": {},
   "outputs": [],
   "source": [
    "import requests"
   ]
  },
  {
   "cell_type": "code",
   "execution_count": 27,
   "metadata": {},
   "outputs": [],
   "source": [
    "image_base_path=\"./Bing/\"\n",
    "markets=[\"EN-IN\", \"EN-US\", \"ZH-CN\", \"JA-JP\", \"EN-AU\", \"EN-UK\", \"DE-DE\", \"EN-NZ\", \"EN-CA\"]"
   ]
  },
  {
   "cell_type": "code",
   "execution_count": 28,
   "metadata": {},
   "outputs": [],
   "source": [
    "def bing():\n",
    "    for mkt in markets:\n",
    "        image_file_name=\"bing\"\n",
    "        r = requests.get('http://www.bing.com/HPImageArchive.aspx?format=js&idx=0&n=1&mkt='+mkt)\n",
    "        for img in r.json()['images']:\n",
    "            image = requests.get('http://www.bing.com/'+img['url'])\n",
    "            if image.status_code == 200:\n",
    "                image_file_name=image_base_path+'bing_'+mkt+img['enddate']+'.jpg'\n",
    "                with open(image_file_name, 'wb') as f:\n",
    "                    f.write(image.content)\n",
    "                return"
   ]
  },
  {
   "cell_type": "code",
   "execution_count": 29,
   "metadata": {},
   "outputs": [
    {
     "name": "stdout",
     "output_type": "stream",
     "text": [
      "{'startdate': '20201004', 'fullstartdate': '202010041830', 'enddate': '20201005', 'url': '/th?id=OHR.PRookery_EN-IN0119209701_1920x1080.jpg&rf=LaDigue_1920x1080.jpg&pid=hp', 'urlbase': '/th?id=OHR.PRookery_EN-IN0119209701', 'copyright': 'Emperor penguin adults and chicks at the Snow Hill Island rookery, Antarctica (© Martin Ruegner/Getty Images)', 'copyrightlink': 'https://www.bing.com/search?q=emperor+penguins&form=hpcapt&filters=HpDate%3a%2220201004_1830%22', 'title': 'Hey, you two in the front!', 'quiz': '/search?q=Bing+homepage+quiz&filters=WQOskey:%22HPQuiz_20201004_PRookery%22&FORM=HPQUIZ', 'wp': True, 'hsh': '89bbd7fea630e88af95ef10ac89b54aa', 'drk': 1, 'top': 1, 'bot': 1, 'hs': []}\n"
     ]
    }
   ],
   "source": [
    "bing()"
   ]
  }
 ],
 "metadata": {
  "kernelspec": {
   "display_name": "Python 3",
   "language": "python",
   "name": "python3"
  },
  "language_info": {
   "codemirror_mode": {
    "name": "ipython",
    "version": 3
   },
   "file_extension": ".py",
   "mimetype": "text/x-python",
   "name": "python",
   "nbconvert_exporter": "python",
   "pygments_lexer": "ipython3",
   "version": "3.8.3"
  }
 },
 "nbformat": 4,
 "nbformat_minor": 4
}
