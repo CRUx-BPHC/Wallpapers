{
 "cells": [
  {
   "cell_type": "code",
   "execution_count": 15,
   "metadata": {},
   "outputs": [],
   "source": [
    "import requests\n",
    "from datetime import date\n",
    "today = date.today()"
   ]
  },
  {
   "cell_type": "code",
   "execution_count": 16,
   "metadata": {},
   "outputs": [],
   "source": [
    "dt=today.strftime(\"%d%m%Y\")"
   ]
  },
  {
   "cell_type": "code",
   "execution_count": 17,
   "metadata": {},
   "outputs": [],
   "source": [
    "def bing(image_base_path):\n",
    "    markets=[\"EN-IN\", \"EN-US\", \"ZH-CN\", \"JA-JP\", \"EN-AU\", \"EN-UK\", \"DE-DE\", \"EN-NZ\", \"EN-CA\"]\n",
    "    for mkt in markets:\n",
    "        image_file_name=\"bing\"\n",
    "        r = requests.get('http://www.bing.com/HPImageArchive.aspx?format=js&idx=0&n=1&mkt='+mkt)\n",
    "        for img in r.json()['images']:\n",
    "            image = requests.get('http://www.bing.com/'+img['url'])\n",
    "            if image.status_code == 200:\n",
    "                image_file_name=image_base_path+'bing_'+dt+'.jpg'\n",
    "                with open(image_file_name, 'wb') as f:\n",
    "                    f.write(image.content)\n",
    "                return"
   ]
  },
  {
   "cell_type": "code",
   "execution_count": 18,
   "metadata": {},
   "outputs": [],
   "source": [
    "def nasa(image_base_path):\n",
    "    r = requests.get('http://apod.nasa.gov/apod/astropix.html')\n",
    "    i=r.text.find(\"IMG SRC=\")+len(\"IMG SRC=\")+1\n",
    "    j=r.text.find(\".jpg\",i)+len(\".jpg\")\n",
    "    nasa_image_url='http://apod.nasa.gov/apod/'+r.text[i:j]\n",
    "    image = requests.get(nasa_image_url)\n",
    "    if image.status_code == 200:\n",
    "        image_file_name=image_base_path+'nasa_'+dt+'.jpg'\n",
    "        with open(image_file_name, 'wb') as f:\n",
    "            f.write(image.content)\n",
    "        return"
   ]
  },
  {
   "cell_type": "code",
   "execution_count": 19,
   "metadata": {},
   "outputs": [],
   "source": [
    "def ngc(image_base_path):\n",
    "    r = requests.get('http://photography.nationalgeographic.com/photography/photo-of-the-day/')\n",
    "    i=r.text.find('https://www.nationalgeographic.com/content/dam/photography/photo-of-the-day/')\n",
    "    j=r.text.find('.jpg',i)+len('.jpg')\n",
    "    ngc_image_url=r.text[i:j]\n",
    "    image = requests.get(ngc_image_url)\n",
    "    if image.status_code == 200:\n",
    "        image_file_name=image_base_path+'ngc_'+dt+'.jpg'\n",
    "        with open(image_file_name, 'wb') as f:\n",
    "            f.write(image.content)\n",
    "        return"
   ]
  },
  {
   "cell_type": "code",
   "execution_count": 21,
   "metadata": {},
   "outputs": [],
   "source": [
    "bing(\"./Images/\")"
   ]
  },
  {
   "cell_type": "code",
   "execution_count": 22,
   "metadata": {},
   "outputs": [],
   "source": [
    "nasa(\"./Images/\")"
   ]
  },
  {
   "cell_type": "code",
   "execution_count": 20,
   "metadata": {},
   "outputs": [],
   "source": [
    "ngc(\"./Images/\")"
   ]
  },
  {
   "cell_type": "code",
   "execution_count": null,
   "metadata": {},
   "outputs": [],
   "source": []
  }
 ],
 "metadata": {
  "kernelspec": {
   "display_name": "Python 3",
   "language": "python",
   "name": "python3"
  },
  "language_info": {
   "codemirror_mode": {
    "name": "ipython",
    "version": 3
   },
   "file_extension": ".py",
   "mimetype": "text/x-python",
   "name": "python",
   "nbconvert_exporter": "python",
   "pygments_lexer": "ipython3",
   "version": "3.8.3"
  }
 },
 "nbformat": 4,
 "nbformat_minor": 4
}
